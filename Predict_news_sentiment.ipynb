{
  "nbformat": 4,
  "nbformat_minor": 0,
  "metadata": {
    "colab": {
      "name": "Predict news sentiment.ipynb",
      "provenance": [],
      "collapsed_sections": [],
      "machine_shape": "hm"
    },
    "kernelspec": {
      "name": "python3",
      "display_name": "Python 3"
    }
  },
  "cells": [
    {
      "cell_type": "code",
      "metadata": {
        "id": "jyDODoaWC6KI",
        "outputId": "50471cd7-735d-4d6e-dce4-abf982cfdf32",
        "colab": {
          "base_uri": "https://localhost:8080/",
          "height": 34
        }
      },
      "source": [
        "from google.colab import drive\n",
        "drive.mount('/content/drive',force_remount=True)"
      ],
      "execution_count": null,
      "outputs": [
        {
          "output_type": "stream",
          "text": [
            "Mounted at /content/drive\n"
          ],
          "name": "stdout"
        }
      ]
    },
    {
      "cell_type": "code",
      "metadata": {
        "id": "fCSZglOfOYyg",
        "outputId": "54e5d233-e19d-4e0b-aae9-796240faad06",
        "colab": {
          "base_uri": "https://localhost:8080/",
          "height": 34
        }
      },
      "source": [
        "!ls drive/My\\ Drive/ML-work/NLP/predict-news-sentiment/"
      ],
      "execution_count": null,
      "outputs": [
        {
          "output_type": "stream",
          "text": [
            "data  glove.6B.50d.txt\tglove.6B.50d.txt.zip\n"
          ],
          "name": "stdout"
        }
      ]
    },
    {
      "cell_type": "code",
      "metadata": {
        "id": "h1UgWh2AOZOl",
        "outputId": "7d0b3f44-b6b3-44fd-ada3-ea0b7dc246a8",
        "colab": {
          "base_uri": "https://localhost:8080/",
          "height": 34
        }
      },
      "source": [
        "%cd drive/My\\ Drive/ML-work/NLP/predict-news-sentiment/"
      ],
      "execution_count": null,
      "outputs": [
        {
          "output_type": "stream",
          "text": [
            "/content/drive/My Drive/ML-work/NLP/predict-news-sentiment\n"
          ],
          "name": "stdout"
        }
      ]
    },
    {
      "cell_type": "code",
      "metadata": {
        "id": "AlzZ2oJRug0e",
        "outputId": "63958743-d5d1-4be3-e95e-7472b67e4566",
        "colab": {
          "base_uri": "https://localhost:8080/",
          "height": 70
        }
      },
      "source": [
        "import pandas as pd\n",
        "import numpy as np\n",
        "import matplotlib.pyplot as plt\n",
        "import seaborn as sns\n",
        "import scipy.stats as stats\n",
        "from sklearn.externals import joblib \n",
        "import nltk\n",
        "# nltk.download('stopwords')\n",
        "# print('Downloaded Stopwords')\n",
        "from nltk.corpus import stopwords\n",
        "import re\n",
        "from xgboost import XGBRegressor\n",
        "import xgboost as xgb\n",
        "from sklearn.pipeline import Pipeline\n",
        "from sklearn.feature_extraction.text import CountVectorizer\n",
        "from sklearn.feature_extraction.text import TfidfTransformer\n",
        "from sklearn.model_selection import GridSearchCV\n",
        "from sklearn.naive_bayes import MultinomialNB\n",
        "import seaborn as sns\n",
        "from sklearn.multioutput import MultiOutputRegressor\n",
        "from sklearn.ensemble import RandomForestRegressor\n",
        "from spacy.lang.en import English\n",
        "from spacy.lang.en.stop_words import STOP_WORDS\n",
        "from sklearn.base import TransformerMixin\n",
        "from sklearn.feature_extraction.text import TfidfVectorizer \n",
        "from sklearn.feature_extraction.text import TfidfTransformer\n",
        "stop_words = STOP_WORDS\n",
        "import string\n",
        "punctuations = string.punctuation\n",
        "from sklearn.feature_extraction.text import HashingVectorizer"
      ],
      "execution_count": null,
      "outputs": [
        {
          "output_type": "stream",
          "text": [
            "/usr/local/lib/python3.6/dist-packages/sklearn/externals/joblib/__init__.py:15: FutureWarning: sklearn.externals.joblib is deprecated in 0.21 and will be removed in 0.23. Please import this functionality directly from joblib, which can be installed with: pip install joblib. If this warning is raised when loading pickled models, you may need to re-serialize those models with scikit-learn 0.21+.\n",
            "  warnings.warn(msg, category=FutureWarning)\n"
          ],
          "name": "stderr"
        }
      ]
    },
    {
      "cell_type": "code",
      "metadata": {
        "id": "gXN4jSqLug6-"
      },
      "source": [
        "train = pd.read_csv('./data/train.csv')\n",
        "test = pd.read_csv('./data/test.csv')"
      ],
      "execution_count": null,
      "outputs": []
    },
    {
      "cell_type": "code",
      "metadata": {
        "id": "llh9avH_uhBZ",
        "outputId": "913c097a-f019-43aa-ed02-b2569ff87397",
        "colab": {
          "base_uri": "https://localhost:8080/",
          "height": 296
        }
      },
      "source": [
        "train.head()"
      ],
      "execution_count": null,
      "outputs": [
        {
          "output_type": "execute_result",
          "data": {
            "text/html": [
              "<div>\n",
              "<style scoped>\n",
              "    .dataframe tbody tr th:only-of-type {\n",
              "        vertical-align: middle;\n",
              "    }\n",
              "\n",
              "    .dataframe tbody tr th {\n",
              "        vertical-align: top;\n",
              "    }\n",
              "\n",
              "    .dataframe thead th {\n",
              "        text-align: right;\n",
              "    }\n",
              "</style>\n",
              "<table border=\"1\" class=\"dataframe\">\n",
              "  <thead>\n",
              "    <tr style=\"text-align: right;\">\n",
              "      <th></th>\n",
              "      <th>IDLink</th>\n",
              "      <th>Title</th>\n",
              "      <th>Headline</th>\n",
              "      <th>Source</th>\n",
              "      <th>Topic</th>\n",
              "      <th>PublishDate</th>\n",
              "      <th>Facebook</th>\n",
              "      <th>GooglePlus</th>\n",
              "      <th>LinkedIn</th>\n",
              "      <th>SentimentTitle</th>\n",
              "      <th>SentimentHeadline</th>\n",
              "    </tr>\n",
              "  </thead>\n",
              "  <tbody>\n",
              "    <tr>\n",
              "      <th>0</th>\n",
              "      <td>Tr3CMgRv1N</td>\n",
              "      <td>Obama Lays Wreath at Arlington National Cemetery</td>\n",
              "      <td>Obama Lays Wreath at Arlington National Cemete...</td>\n",
              "      <td>USA TODAY</td>\n",
              "      <td>obama</td>\n",
              "      <td>2002-04-02 00:00:00</td>\n",
              "      <td>-1</td>\n",
              "      <td>-1</td>\n",
              "      <td>-1</td>\n",
              "      <td>0.000000</td>\n",
              "      <td>-0.053300</td>\n",
              "    </tr>\n",
              "    <tr>\n",
              "      <th>1</th>\n",
              "      <td>Wc81vGp8qZ</td>\n",
              "      <td>A Look at the Health of the Chinese Economy</td>\n",
              "      <td>Tim Haywood, investment director business-unit...</td>\n",
              "      <td>Bloomberg</td>\n",
              "      <td>economy</td>\n",
              "      <td>2008-09-20 00:00:00</td>\n",
              "      <td>-1</td>\n",
              "      <td>-1</td>\n",
              "      <td>-1</td>\n",
              "      <td>0.208333</td>\n",
              "      <td>-0.156386</td>\n",
              "    </tr>\n",
              "    <tr>\n",
              "      <th>2</th>\n",
              "      <td>zNGH03CrZH</td>\n",
              "      <td>Nouriel Roubini: Global Economy Not Back to 2008</td>\n",
              "      <td>Nouriel Roubini, NYU professor and chairman at...</td>\n",
              "      <td>Bloomberg</td>\n",
              "      <td>economy</td>\n",
              "      <td>2012-01-28 00:00:00</td>\n",
              "      <td>-1</td>\n",
              "      <td>-1</td>\n",
              "      <td>-1</td>\n",
              "      <td>-0.425210</td>\n",
              "      <td>0.139754</td>\n",
              "    </tr>\n",
              "    <tr>\n",
              "      <th>3</th>\n",
              "      <td>3sM1H0W8ts</td>\n",
              "      <td>Finland GDP Expands In Q4</td>\n",
              "      <td>Finland's economy expanded marginally in the t...</td>\n",
              "      <td>RTT News</td>\n",
              "      <td>economy</td>\n",
              "      <td>2015-03-01 00:06:00</td>\n",
              "      <td>-1</td>\n",
              "      <td>-1</td>\n",
              "      <td>-1</td>\n",
              "      <td>0.000000</td>\n",
              "      <td>0.026064</td>\n",
              "    </tr>\n",
              "    <tr>\n",
              "      <th>4</th>\n",
              "      <td>wUbnxgvqaZ</td>\n",
              "      <td>Tourism, govt spending buoys Thai economy in J...</td>\n",
              "      <td>Tourism and public spending continued to boost...</td>\n",
              "      <td>The Nation - Thailand&amp;#39;s English news</td>\n",
              "      <td>economy</td>\n",
              "      <td>2015-03-01 00:11:00</td>\n",
              "      <td>-1</td>\n",
              "      <td>-1</td>\n",
              "      <td>-1</td>\n",
              "      <td>0.000000</td>\n",
              "      <td>0.141084</td>\n",
              "    </tr>\n",
              "  </tbody>\n",
              "</table>\n",
              "</div>"
            ],
            "text/plain": [
              "       IDLink  ... SentimentHeadline\n",
              "0  Tr3CMgRv1N  ...         -0.053300\n",
              "1  Wc81vGp8qZ  ...         -0.156386\n",
              "2  zNGH03CrZH  ...          0.139754\n",
              "3  3sM1H0W8ts  ...          0.026064\n",
              "4  wUbnxgvqaZ  ...          0.141084\n",
              "\n",
              "[5 rows x 11 columns]"
            ]
          },
          "metadata": {
            "tags": []
          },
          "execution_count": 6
        }
      ]
    },
    {
      "cell_type": "code",
      "metadata": {
        "id": "hnenNK6Puhqy",
        "outputId": "3a1ff4b0-a9d4-4374-aba6-2aebfab9f60c",
        "colab": {
          "base_uri": "https://localhost:8080/",
          "height": 35
        }
      },
      "source": [
        "train.loc[0,'Headline']"
      ],
      "execution_count": null,
      "outputs": [
        {
          "output_type": "execute_result",
          "data": {
            "application/vnd.google.colaboratory.intrinsic+json": {
              "type": "string"
            },
            "text/plain": [
              "'Obama Lays Wreath at Arlington National Cemetery. President Barack Obama has laid a wreath at the Tomb of the Unknowns to honor'"
            ]
          },
          "metadata": {
            "tags": []
          },
          "execution_count": 7
        }
      ]
    },
    {
      "cell_type": "code",
      "metadata": {
        "id": "VRdEGXHquhxV",
        "outputId": "6d2e1189-72a3-4d4e-839b-bfc343acd711",
        "colab": {
          "base_uri": "https://localhost:8080/",
          "height": 35
        }
      },
      "source": [
        "train.loc[0,'Title']"
      ],
      "execution_count": null,
      "outputs": [
        {
          "output_type": "execute_result",
          "data": {
            "application/vnd.google.colaboratory.intrinsic+json": {
              "type": "string"
            },
            "text/plain": [
              "'Obama Lays Wreath at Arlington National Cemetery'"
            ]
          },
          "metadata": {
            "tags": []
          },
          "execution_count": 8
        }
      ]
    },
    {
      "cell_type": "code",
      "metadata": {
        "id": "t1lSImqXuh3v",
        "outputId": "9e6e67a1-9bfe-4484-b485-35b4f8cc929d",
        "colab": {
          "base_uri": "https://localhost:8080/",
          "height": 279
        }
      },
      "source": [
        "test.head()"
      ],
      "execution_count": null,
      "outputs": [
        {
          "output_type": "execute_result",
          "data": {
            "text/html": [
              "<div>\n",
              "<style scoped>\n",
              "    .dataframe tbody tr th:only-of-type {\n",
              "        vertical-align: middle;\n",
              "    }\n",
              "\n",
              "    .dataframe tbody tr th {\n",
              "        vertical-align: top;\n",
              "    }\n",
              "\n",
              "    .dataframe thead th {\n",
              "        text-align: right;\n",
              "    }\n",
              "</style>\n",
              "<table border=\"1\" class=\"dataframe\">\n",
              "  <thead>\n",
              "    <tr style=\"text-align: right;\">\n",
              "      <th></th>\n",
              "      <th>IDLink</th>\n",
              "      <th>Title</th>\n",
              "      <th>Headline</th>\n",
              "      <th>Source</th>\n",
              "      <th>Topic</th>\n",
              "      <th>PublishDate</th>\n",
              "      <th>Facebook</th>\n",
              "      <th>GooglePlus</th>\n",
              "      <th>LinkedIn</th>\n",
              "    </tr>\n",
              "  </thead>\n",
              "  <tbody>\n",
              "    <tr>\n",
              "      <th>0</th>\n",
              "      <td>tFrqIR6Chj</td>\n",
              "      <td>Sliding Economy: FG fights back with N3trn TSA...</td>\n",
              "      <td>With the 2016 budget now passed by the Nationa...</td>\n",
              "      <td>BusinessDay</td>\n",
              "      <td>economy</td>\n",
              "      <td>2016-03-29 01:41:12</td>\n",
              "      <td>0</td>\n",
              "      <td>0</td>\n",
              "      <td>1</td>\n",
              "    </tr>\n",
              "    <tr>\n",
              "      <th>1</th>\n",
              "      <td>DVAaGErjlF</td>\n",
              "      <td>Microsoft shows how HoloLens can bring distant...</td>\n",
              "      <td>A recent Microsoft Research video shows how th...</td>\n",
              "      <td>Daily Mail</td>\n",
              "      <td>microsoft</td>\n",
              "      <td>2016-03-29 01:41:27</td>\n",
              "      <td>121</td>\n",
              "      <td>2</td>\n",
              "      <td>13</td>\n",
              "    </tr>\n",
              "    <tr>\n",
              "      <th>2</th>\n",
              "      <td>OT9UIZm5M2</td>\n",
              "      <td>Microsoft’s Twitter Robot Praises Hitler, Trum...</td>\n",
              "      <td>* Microsoft teamed with Bing to create TayTwee...</td>\n",
              "      <td>EURweb</td>\n",
              "      <td>microsoft</td>\n",
              "      <td>2016-03-29 01:47:00</td>\n",
              "      <td>12</td>\n",
              "      <td>1</td>\n",
              "      <td>0</td>\n",
              "    </tr>\n",
              "    <tr>\n",
              "      <th>3</th>\n",
              "      <td>lflGp3q2Fj</td>\n",
              "      <td>Flood of Central Bank Moves Can't Get World Ec...</td>\n",
              "      <td>Central bankers have managed to steer the worl...</td>\n",
              "      <td>Bloomberg via Yahoo! Finance</td>\n",
              "      <td>economy</td>\n",
              "      <td>2016-03-29 02:00:00</td>\n",
              "      <td>0</td>\n",
              "      <td>0</td>\n",
              "      <td>3</td>\n",
              "    </tr>\n",
              "    <tr>\n",
              "      <th>4</th>\n",
              "      <td>zDYG0SoovZ</td>\n",
              "      <td>USD/JPY: bears lining up on mixed U.S. economy...</td>\n",
              "      <td>However, this streak of seven-day gains might ...</td>\n",
              "      <td>FXStreet</td>\n",
              "      <td>economy</td>\n",
              "      <td>2016-03-29 02:01:07</td>\n",
              "      <td>3</td>\n",
              "      <td>0</td>\n",
              "      <td>0</td>\n",
              "    </tr>\n",
              "  </tbody>\n",
              "</table>\n",
              "</div>"
            ],
            "text/plain": [
              "       IDLink  ... LinkedIn\n",
              "0  tFrqIR6Chj  ...        1\n",
              "1  DVAaGErjlF  ...       13\n",
              "2  OT9UIZm5M2  ...        0\n",
              "3  lflGp3q2Fj  ...        3\n",
              "4  zDYG0SoovZ  ...        0\n",
              "\n",
              "[5 rows x 9 columns]"
            ]
          },
          "metadata": {
            "tags": []
          },
          "execution_count": 9
        }
      ]
    },
    {
      "cell_type": "code",
      "metadata": {
        "id": "2_OA0oGeuh9X",
        "outputId": "45c489ae-73a8-4264-b873-1725505593ff",
        "colab": {
          "base_uri": "https://localhost:8080/",
          "height": 373
        }
      },
      "source": [
        "missing_val = pd.DataFrame(train.isnull().sum())\n",
        "#Reset index\n",
        "missing_val = missing_val.reset_index()\n",
        "missing_val"
      ],
      "execution_count": null,
      "outputs": [
        {
          "output_type": "execute_result",
          "data": {
            "text/html": [
              "<div>\n",
              "<style scoped>\n",
              "    .dataframe tbody tr th:only-of-type {\n",
              "        vertical-align: middle;\n",
              "    }\n",
              "\n",
              "    .dataframe tbody tr th {\n",
              "        vertical-align: top;\n",
              "    }\n",
              "\n",
              "    .dataframe thead th {\n",
              "        text-align: right;\n",
              "    }\n",
              "</style>\n",
              "<table border=\"1\" class=\"dataframe\">\n",
              "  <thead>\n",
              "    <tr style=\"text-align: right;\">\n",
              "      <th></th>\n",
              "      <th>index</th>\n",
              "      <th>0</th>\n",
              "    </tr>\n",
              "  </thead>\n",
              "  <tbody>\n",
              "    <tr>\n",
              "      <th>0</th>\n",
              "      <td>IDLink</td>\n",
              "      <td>0</td>\n",
              "    </tr>\n",
              "    <tr>\n",
              "      <th>1</th>\n",
              "      <td>Title</td>\n",
              "      <td>0</td>\n",
              "    </tr>\n",
              "    <tr>\n",
              "      <th>2</th>\n",
              "      <td>Headline</td>\n",
              "      <td>0</td>\n",
              "    </tr>\n",
              "    <tr>\n",
              "      <th>3</th>\n",
              "      <td>Source</td>\n",
              "      <td>175</td>\n",
              "    </tr>\n",
              "    <tr>\n",
              "      <th>4</th>\n",
              "      <td>Topic</td>\n",
              "      <td>0</td>\n",
              "    </tr>\n",
              "    <tr>\n",
              "      <th>5</th>\n",
              "      <td>PublishDate</td>\n",
              "      <td>0</td>\n",
              "    </tr>\n",
              "    <tr>\n",
              "      <th>6</th>\n",
              "      <td>Facebook</td>\n",
              "      <td>0</td>\n",
              "    </tr>\n",
              "    <tr>\n",
              "      <th>7</th>\n",
              "      <td>GooglePlus</td>\n",
              "      <td>0</td>\n",
              "    </tr>\n",
              "    <tr>\n",
              "      <th>8</th>\n",
              "      <td>LinkedIn</td>\n",
              "      <td>0</td>\n",
              "    </tr>\n",
              "    <tr>\n",
              "      <th>9</th>\n",
              "      <td>SentimentTitle</td>\n",
              "      <td>0</td>\n",
              "    </tr>\n",
              "    <tr>\n",
              "      <th>10</th>\n",
              "      <td>SentimentHeadline</td>\n",
              "      <td>0</td>\n",
              "    </tr>\n",
              "  </tbody>\n",
              "</table>\n",
              "</div>"
            ],
            "text/plain": [
              "                index    0\n",
              "0              IDLink    0\n",
              "1               Title    0\n",
              "2            Headline    0\n",
              "3              Source  175\n",
              "4               Topic    0\n",
              "5         PublishDate    0\n",
              "6            Facebook    0\n",
              "7          GooglePlus    0\n",
              "8            LinkedIn    0\n",
              "9      SentimentTitle    0\n",
              "10  SentimentHeadline    0"
            ]
          },
          "metadata": {
            "tags": []
          },
          "execution_count": 6
        }
      ]
    },
    {
      "cell_type": "code",
      "metadata": {
        "id": "lX86s1HZuiDZ",
        "outputId": "d33d1f0c-d3ed-4266-91f9-fca0bf03a94b",
        "colab": {
          "base_uri": "https://localhost:8080/",
          "height": 570
        }
      },
      "source": [
        "train[train['Source'].isna()]"
      ],
      "execution_count": null,
      "outputs": [
        {
          "output_type": "execute_result",
          "data": {
            "text/html": [
              "<div>\n",
              "<style scoped>\n",
              "    .dataframe tbody tr th:only-of-type {\n",
              "        vertical-align: middle;\n",
              "    }\n",
              "\n",
              "    .dataframe tbody tr th {\n",
              "        vertical-align: top;\n",
              "    }\n",
              "\n",
              "    .dataframe thead th {\n",
              "        text-align: right;\n",
              "    }\n",
              "</style>\n",
              "<table border=\"1\" class=\"dataframe\">\n",
              "  <thead>\n",
              "    <tr style=\"text-align: right;\">\n",
              "      <th></th>\n",
              "      <th>IDLink</th>\n",
              "      <th>Title</th>\n",
              "      <th>Headline</th>\n",
              "      <th>Source</th>\n",
              "      <th>Topic</th>\n",
              "      <th>PublishDate</th>\n",
              "      <th>Facebook</th>\n",
              "      <th>GooglePlus</th>\n",
              "      <th>LinkedIn</th>\n",
              "      <th>SentimentTitle</th>\n",
              "      <th>SentimentHeadline</th>\n",
              "    </tr>\n",
              "  </thead>\n",
              "  <tbody>\n",
              "    <tr>\n",
              "      <th>6</th>\n",
              "      <td>lKg2pImhCl</td>\n",
              "      <td>Monday, 29 Feb 2016</td>\n",
              "      <td>RAMALLAH, February 25, 2016 (WAFA) - Palestine...</td>\n",
              "      <td>NaN</td>\n",
              "      <td>palestine</td>\n",
              "      <td>2016-02-28 14:03:00</td>\n",
              "      <td>0</td>\n",
              "      <td>0</td>\n",
              "      <td>0</td>\n",
              "      <td>0.000000</td>\n",
              "      <td>-0.005906</td>\n",
              "    </tr>\n",
              "    <tr>\n",
              "      <th>56</th>\n",
              "      <td>ZOKue2cqfO</td>\n",
              "      <td>Monday, 29 Feb 2016</td>\n",
              "      <td>RAMALLAH, February 29, 2016 (WAFA) - The Gover...</td>\n",
              "      <td>NaN</td>\n",
              "      <td>palestine</td>\n",
              "      <td>2016-03-01 09:29:00</td>\n",
              "      <td>0</td>\n",
              "      <td>0</td>\n",
              "      <td>0</td>\n",
              "      <td>0.000000</td>\n",
              "      <td>0.048546</td>\n",
              "    </tr>\n",
              "    <tr>\n",
              "      <th>111</th>\n",
              "      <td>JXfRvxs0R6</td>\n",
              "      <td>Tuesday, 1 Mar 2016</td>\n",
              "      <td>RAMALLAH, February 29, 2016 (WAFA) - The Gover...</td>\n",
              "      <td>NaN</td>\n",
              "      <td>palestine</td>\n",
              "      <td>2016-03-01 00:15:00</td>\n",
              "      <td>0</td>\n",
              "      <td>0</td>\n",
              "      <td>0</td>\n",
              "      <td>-0.243068</td>\n",
              "      <td>0.048546</td>\n",
              "    </tr>\n",
              "    <tr>\n",
              "      <th>350</th>\n",
              "      <td>A1YOXDsuOO</td>\n",
              "      <td>Human rights situation in Palestinian territor...</td>\n",
              "      <td>In a special meeting convened by the UN Human ...</td>\n",
              "      <td>NaN</td>\n",
              "      <td>palestine</td>\n",
              "      <td>2015-10-28 17:24:00</td>\n",
              "      <td>-1</td>\n",
              "      <td>-1</td>\n",
              "      <td>-1</td>\n",
              "      <td>-0.228299</td>\n",
              "      <td>-0.124931</td>\n",
              "    </tr>\n",
              "    <tr>\n",
              "      <th>409</th>\n",
              "      <td>fO2mYsUg5P</td>\n",
              "      <td>Japan Contributes $5.73M To UNRWA’s Food Assis...</td>\n",
              "      <td>JERUSALEM, October 31, 2015 (WAFA) – The Japan...</td>\n",
              "      <td>NaN</td>\n",
              "      <td>palestine</td>\n",
              "      <td>2015-10-31 04:30:00</td>\n",
              "      <td>-1</td>\n",
              "      <td>-1</td>\n",
              "      <td>-1</td>\n",
              "      <td>0.166667</td>\n",
              "      <td>-0.042878</td>\n",
              "    </tr>\n",
              "    <tr>\n",
              "      <th>...</th>\n",
              "      <td>...</td>\n",
              "      <td>...</td>\n",
              "      <td>...</td>\n",
              "      <td>...</td>\n",
              "      <td>...</td>\n",
              "      <td>...</td>\n",
              "      <td>...</td>\n",
              "      <td>...</td>\n",
              "      <td>...</td>\n",
              "      <td>...</td>\n",
              "      <td>...</td>\n",
              "    </tr>\n",
              "    <tr>\n",
              "      <th>55482</th>\n",
              "      <td>FJZonPtvqe</td>\n",
              "      <td>Monday, 28 Mar 2016</td>\n",
              "      <td>JERICHO, March 28, 2016 (WAFA) – Secretary Gen...</td>\n",
              "      <td>NaN</td>\n",
              "      <td>palestine</td>\n",
              "      <td>2016-03-28 04:35:00</td>\n",
              "      <td>0</td>\n",
              "      <td>0</td>\n",
              "      <td>0</td>\n",
              "      <td>-0.243068</td>\n",
              "      <td>0.068465</td>\n",
              "    </tr>\n",
              "    <tr>\n",
              "      <th>55483</th>\n",
              "      <td>NanKfuNzsO</td>\n",
              "      <td>Saturday, 16 Apr 2016</td>\n",
              "      <td>JERICHO, March 28, 2016 (WAFA) – Secretary Gen...</td>\n",
              "      <td>NaN</td>\n",
              "      <td>palestine</td>\n",
              "      <td>2016-03-28 04:36:00</td>\n",
              "      <td>-1</td>\n",
              "      <td>-1</td>\n",
              "      <td>-1</td>\n",
              "      <td>0.000000</td>\n",
              "      <td>0.068465</td>\n",
              "    </tr>\n",
              "    <tr>\n",
              "      <th>55486</th>\n",
              "      <td>ovFBb4XFt4</td>\n",
              "      <td>Sunday, 17 Apr 2016</td>\n",
              "      <td>JERICHO, March 28, 2016 (WAFA) – Secretary Gen...</td>\n",
              "      <td>NaN</td>\n",
              "      <td>palestine</td>\n",
              "      <td>2016-03-28 05:07:00</td>\n",
              "      <td>-1</td>\n",
              "      <td>-1</td>\n",
              "      <td>-1</td>\n",
              "      <td>0.000000</td>\n",
              "      <td>0.068465</td>\n",
              "    </tr>\n",
              "    <tr>\n",
              "      <th>55620</th>\n",
              "      <td>H2PlLqiX9U</td>\n",
              "      <td>Tuesday, 29 Mar 2016</td>\n",
              "      <td>JERICHO, March 28, 2016 (WAFA) – Secretary Gen...</td>\n",
              "      <td>NaN</td>\n",
              "      <td>palestine</td>\n",
              "      <td>2016-03-28 14:06:00</td>\n",
              "      <td>0</td>\n",
              "      <td>0</td>\n",
              "      <td>0</td>\n",
              "      <td>-0.243068</td>\n",
              "      <td>0.068465</td>\n",
              "    </tr>\n",
              "    <tr>\n",
              "      <th>55726</th>\n",
              "      <td>WRLC4C8Nvj</td>\n",
              "      <td>Monday, 18 Apr 2016</td>\n",
              "      <td>JERICHO, March 28, 2016 (WAFA) – Secretary Gen...</td>\n",
              "      <td>NaN</td>\n",
              "      <td>palestine</td>\n",
              "      <td>2016-03-28 17:35:00</td>\n",
              "      <td>-1</td>\n",
              "      <td>-1</td>\n",
              "      <td>-1</td>\n",
              "      <td>0.000000</td>\n",
              "      <td>0.068465</td>\n",
              "    </tr>\n",
              "  </tbody>\n",
              "</table>\n",
              "<p>175 rows × 11 columns</p>\n",
              "</div>"
            ],
            "text/plain": [
              "           IDLink  ... SentimentHeadline\n",
              "6      lKg2pImhCl  ...         -0.005906\n",
              "56     ZOKue2cqfO  ...          0.048546\n",
              "111    JXfRvxs0R6  ...          0.048546\n",
              "350    A1YOXDsuOO  ...         -0.124931\n",
              "409    fO2mYsUg5P  ...         -0.042878\n",
              "...           ...  ...               ...\n",
              "55482  FJZonPtvqe  ...          0.068465\n",
              "55483  NanKfuNzsO  ...          0.068465\n",
              "55486  ovFBb4XFt4  ...          0.068465\n",
              "55620  H2PlLqiX9U  ...          0.068465\n",
              "55726  WRLC4C8Nvj  ...          0.068465\n",
              "\n",
              "[175 rows x 11 columns]"
            ]
          },
          "metadata": {
            "tags": []
          },
          "execution_count": 11
        }
      ]
    },
    {
      "cell_type": "code",
      "metadata": {
        "id": "4V19Y5JYuiI8"
      },
      "source": [
        "train.dropna(inplace=True)"
      ],
      "execution_count": null,
      "outputs": []
    },
    {
      "cell_type": "code",
      "metadata": {
        "id": "Jk81-CQ9Pr8i"
      },
      "source": [
        "test['Source'].fillna(value=test['Source'].mean(), inplace=True)"
      ],
      "execution_count": null,
      "outputs": []
    },
    {
      "cell_type": "markdown",
      "metadata": {
        "id": "VYcggJkH1VfN"
      },
      "source": [
        "### **EDA - Data Visualization**"
      ]
    },
    {
      "cell_type": "code",
      "metadata": {
        "id": "u7xyvGVCuiOY"
      },
      "source": [
        "sns.set(style='darkgrid',palette='Set1')"
      ],
      "execution_count": null,
      "outputs": []
    },
    {
      "cell_type": "code",
      "metadata": {
        "id": "7oTRQdmWuiVh",
        "outputId": "9fbf5b61-4ca9-4434-df49-8c20bf20bff2",
        "colab": {
          "base_uri": "https://localhost:8080/",
          "height": 615
        }
      },
      "source": [
        "_ = sns.jointplot(x='SentimentTitle',y='SentimentHeadline',data=train,kind = 'reg')\n",
        "_.annotate(stats.pearsonr)\n",
        "plt.show()"
      ],
      "execution_count": null,
      "outputs": [
        {
          "output_type": "error",
          "ename": "AttributeError",
          "evalue": "ignored",
          "traceback": [
            "\u001b[0;31m---------------------------------------------------------------------------\u001b[0m",
            "\u001b[0;31mAttributeError\u001b[0m                            Traceback (most recent call last)",
            "\u001b[0;32m<ipython-input-14-682f3648cba9>\u001b[0m in \u001b[0;36m<module>\u001b[0;34m()\u001b[0m\n\u001b[1;32m      1\u001b[0m \u001b[0m_\u001b[0m \u001b[0;34m=\u001b[0m \u001b[0msns\u001b[0m\u001b[0;34m.\u001b[0m\u001b[0mjointplot\u001b[0m\u001b[0;34m(\u001b[0m\u001b[0mx\u001b[0m\u001b[0;34m=\u001b[0m\u001b[0;34m'SentimentTitle'\u001b[0m\u001b[0;34m,\u001b[0m\u001b[0my\u001b[0m\u001b[0;34m=\u001b[0m\u001b[0;34m'SentimentHeadline'\u001b[0m\u001b[0;34m,\u001b[0m\u001b[0mdata\u001b[0m\u001b[0;34m=\u001b[0m\u001b[0mtrain\u001b[0m\u001b[0;34m,\u001b[0m\u001b[0mkind\u001b[0m \u001b[0;34m=\u001b[0m \u001b[0;34m'reg'\u001b[0m\u001b[0;34m)\u001b[0m\u001b[0;34m\u001b[0m\u001b[0;34m\u001b[0m\u001b[0m\n\u001b[0;32m----> 2\u001b[0;31m \u001b[0m_\u001b[0m\u001b[0;34m.\u001b[0m\u001b[0mannotate\u001b[0m\u001b[0;34m(\u001b[0m\u001b[0mstats\u001b[0m\u001b[0;34m.\u001b[0m\u001b[0mpearsonr\u001b[0m\u001b[0;34m)\u001b[0m\u001b[0;34m\u001b[0m\u001b[0;34m\u001b[0m\u001b[0m\n\u001b[0m\u001b[1;32m      3\u001b[0m \u001b[0mplt\u001b[0m\u001b[0;34m.\u001b[0m\u001b[0mshow\u001b[0m\u001b[0;34m(\u001b[0m\u001b[0;34m)\u001b[0m\u001b[0;34m\u001b[0m\u001b[0;34m\u001b[0m\u001b[0m\n",
            "\u001b[0;31mAttributeError\u001b[0m: 'JointGrid' object has no attribute 'annotate'"
          ]
        },
        {
          "output_type": "display_data",
          "data": {
            "image/png": "[encoded data removed]",
            "text/plain": [
              "<Figure size 432x432 with 3 Axes>"
            ]
          },
          "metadata": {
            "tags": []
          }
        }
      ]
    },
    {
      "cell_type": "code",
      "metadata": {
        "id": "d_WI_rUPuibw",
        "outputId": "89fe0d9c-2a2a-4482-82bc-03b333bf6d84",
        "colab": {
          "base_uri": "https://localhost:8080/",
          "height": 850
        }
      },
      "source": [
        "plt.figure(figsize=(15,15))\n",
        "_ = sns.heatmap(train[['Facebook','GooglePlus','LinkedIn','SentimentTitle','SentimentHeadline']].corr(), square=True, cmap='RdYlGn',linewidths=0.5,linecolor='w',annot=True)\n",
        "plt.title('Correlation matrix ')\n",
        "\n",
        "plt.show()"
      ],
      "execution_count": null,
      "outputs": [
        {
          "output_type": "display_data",
          "data": {
            "image/png": "[encoded data removed]",
            "text/plain": [
              "<Figure size 1080x1080 with 2 Axes>"
            ]
          },
          "metadata": {
            "tags": []
          }
        }
      ]
    },
    {
      "cell_type": "code",
      "metadata": {
        "id": "dERGTDeYuii_",
        "outputId": "c1d43f42-d791-49fe-ff73-0708a6722130",
        "colab": {
          "base_uri": "https://localhost:8080/",
          "height": 84
        }
      },
      "source": [
        "train.columns"
      ],
      "execution_count": null,
      "outputs": [
        {
          "output_type": "execute_result",
          "data": {
            "text/plain": [
              "Index(['IDLink', 'Title', 'Headline', 'Source', 'Topic', 'PublishDate',\n",
              "       'Facebook', 'GooglePlus', 'LinkedIn', 'SentimentTitle',\n",
              "       'SentimentHeadline'],\n",
              "      dtype='object')"
            ]
          },
          "metadata": {
            "tags": []
          },
          "execution_count": 16
        }
      ]
    },
    {
      "cell_type": "code",
      "metadata": {
        "id": "Bj1p0ty9uipz",
        "outputId": "d095480b-521f-4292-810e-b2875da62cb1",
        "colab": {
          "base_uri": "https://localhost:8080/",
          "height": 34
        }
      },
      "source": [
        "train.shape"
      ],
      "execution_count": null,
      "outputs": [
        {
          "output_type": "execute_result",
          "data": {
            "text/plain": [
              "(55757, 11)"
            ]
          },
          "metadata": {
            "tags": []
          },
          "execution_count": 17
        }
      ]
    },
    {
      "cell_type": "code",
      "metadata": {
        "id": "RaNrBtALuiww",
        "outputId": "99e1334a-5f8a-471e-d1fb-9130acd6ad9d",
        "colab": {
          "base_uri": "https://localhost:8080/",
          "height": 118
        }
      },
      "source": [
        "train.index"
      ],
      "execution_count": null,
      "outputs": [
        {
          "output_type": "execute_result",
          "data": {
            "text/plain": [
              "Int64Index([    0,     1,     2,     3,     4,     5,     7,     8,     9,\n",
              "               10,\n",
              "            ...\n",
              "            55922, 55923, 55924, 55925, 55926, 55927, 55928, 55929, 55930,\n",
              "            55931],\n",
              "           dtype='int64', length=55757)"
            ]
          },
          "metadata": {
            "tags": []
          },
          "execution_count": 18
        }
      ]
    },
    {
      "cell_type": "markdown",
      "metadata": {
        "id": "9bS9nozZ5YiL"
      },
      "source": [
        "### Loading spacy English model"
      ]
    },
    {
      "cell_type": "code",
      "metadata": {
        "id": "O6OSK5Hkui4H"
      },
      "source": [
        "nlp = English()"
      ],
      "execution_count": null,
      "outputs": []
    },
    {
      "cell_type": "markdown",
      "metadata": {
        "id": "MGdXKbHB5eJ0"
      },
      "source": [
        "### Custom Tokenizer"
      ]
    },
    {
      "cell_type": "code",
      "metadata": {
        "id": "cHcDaF0Uui_X"
      },
      "source": [
        "# Creating our tokenizer function\n",
        "def spacy_tokenizer(sentence):\n",
        "    # Creating our token object, which is used to create documents with linguistic annotations.\n",
        "    mytokens = nlp(sentence)\n",
        "\n",
        "    # here the token is converted into lowercase if it is a Pronoun and if it is not a Pronoun then it is lemmatized and lowercased    \n",
        "    mytokens = [ word.lemma_.lower().strip() if word.lemma_ != \"-PRON-\" else word.lower_ for word in mytokens ]\n",
        "\n",
        "    # Removing stop words using stopword from spacy library and punctuations from string library\n",
        "    mytokens = [ word for word in mytokens if word not in stop_words and word not in punctuations ]\n",
        "\n",
        "    # return preprocessed list of tokens\n",
        "    return mytokens"
      ],
      "execution_count": null,
      "outputs": []
    },
    {
      "cell_type": "markdown",
      "metadata": {
        "id": "H-RyuXyFAf17"
      },
      "source": [
        "### Custom Transformer and text cleaner "
      ]
    },
    {
      "cell_type": "code",
      "metadata": {
        "id": "25ML_GgtujFX"
      },
      "source": [
        "class predictors(TransformerMixin):\n",
        "    def transform(self, X, **transform_params):\n",
        "        \n",
        "        return [clean_text(text) for text in X]\n",
        "\n",
        "    def fit(self, X, y, **fit_params):\n",
        "        return self\n",
        "\n",
        "    def get_params(self, deep=True):\n",
        "        return {}\n",
        "\n",
        "\n",
        "def clean_text(text):\n",
        "   \n",
        "    return text.strip().lower()"
      ],
      "execution_count": null,
      "outputs": []
    },
    {
      "cell_type": "code",
      "metadata": {
        "id": "uxQKrD3LujL2"
      },
      "source": [
        "bow_vector = CountVectorizer(max_features = 100,tokenizer = spacy_tokenizer,ngram_range=(1,2))"
      ],
      "execution_count": null,
      "outputs": []
    },
    {
      "cell_type": "code",
      "metadata": {
        "id": "IsdROfSeujSr"
      },
      "source": [
        "X_train_title = train.loc[:,'Title'].values\n",
        "y_train_title = train.loc[:,['SentimentTitle']].values\n",
        "\n",
        "X_train_headline = train.loc[:,'Headline'].values\n",
        "y_train_headline = train.loc[:,['SentimentHeadline']].values"
      ],
      "execution_count": null,
      "outputs": []
    },
    {
      "cell_type": "code",
      "metadata": {
        "id": "MaKdcaDXEj8F"
      },
      "source": [
        "X_test_title = test.loc[:,'Title'].values\n",
        "X_test_headline = test.loc[:,'Headline'].values"
      ],
      "execution_count": null,
      "outputs": []
    },
    {
      "cell_type": "code",
      "metadata": {
        "id": "GKIZncGIBQlI",
        "outputId": "13a38e41-1f08-4dad-c6f3-8c9eb7b9a5dd",
        "colab": {
          "base_uri": "https://localhost:8080/",
          "height": 34
        }
      },
      "source": [
        "X_train_title.shape"
      ],
      "execution_count": null,
      "outputs": [
        {
          "output_type": "execute_result",
          "data": {
            "text/plain": [
              "(55757,)"
            ]
          },
          "metadata": {
            "tags": []
          },
          "execution_count": 14
        }
      ]
    },
    {
      "cell_type": "code",
      "metadata": {
        "id": "g-48LWt3BQvL",
        "outputId": "ac29a6f5-7701-42e3-98d3-d6b2af32f94b",
        "colab": {
          "base_uri": "https://localhost:8080/",
          "height": 34
        }
      },
      "source": [
        "X_train_headline.shape"
      ],
      "execution_count": null,
      "outputs": [
        {
          "output_type": "execute_result",
          "data": {
            "text/plain": [
              "(55757,)"
            ]
          },
          "metadata": {
            "tags": []
          },
          "execution_count": 25
        }
      ]
    },
    {
      "cell_type": "code",
      "metadata": {
        "id": "oGGMkJliBQ3g",
        "outputId": "2165d94e-d64d-41e2-9d35-76b41e09aa29",
        "colab": {
          "base_uri": "https://localhost:8080/",
          "height": 34
        }
      },
      "source": [
        "y_train_headline.shape"
      ],
      "execution_count": null,
      "outputs": [
        {
          "output_type": "execute_result",
          "data": {
            "text/plain": [
              "(55757, 1)"
            ]
          },
          "metadata": {
            "tags": []
          },
          "execution_count": 26
        }
      ]
    },
    {
      "cell_type": "code",
      "metadata": {
        "id": "0IDm74eWFnrg"
      },
      "source": [
        "from sklearn.model_selection import train_test_split\n",
        "x_train_title, x_valid_title, Y_train_title, y_valid_title = train_test_split(X_train_title, y_train_title, shuffle = True, test_size = 0.1)\n",
        "x_train_headline, x_valid_headline, Y_train_headline, y_valid_headline = train_test_split(X_train_headline, y_train_headline, shuffle = True, test_size = 0.1)"
      ],
      "execution_count": null,
      "outputs": []
    },
    {
      "cell_type": "code",
      "metadata": {
        "id": "7OlNMXzcCojq"
      },
      "source": [
        "abs_y_train_title=np.sign(Y_train_title)\n",
        "abs_y_train_headline=np.sign(Y_train_headline)\n",
        "abs_y_valid_title=np.sign(y_valid_title)\n",
        "abs_y_valid_headline=np.sign(y_valid_headline)"
      ],
      "execution_count": null,
      "outputs": []
    },
    {
      "cell_type": "markdown",
      "metadata": {
        "id": "nRcKGYwPCFeU"
      },
      "source": [
        "### XGBoost Regressor\n"
      ]
    },
    {
      "cell_type": "code",
      "metadata": {
        "id": "eO91VbkEBQ-o"
      },
      "source": [
        "xgboost = MultiOutputRegressor(XGBRegressor())\n",
        "regr_multirf = MultiOutputRegressor(RandomForestRegressor(n_estimators=100,\n",
        "                                                          max_depth=None,\n",
        "                                                          random_state=0))"
      ],
      "execution_count": null,
      "outputs": []
    },
    {
      "cell_type": "code",
      "metadata": {
        "id": "7Hkv3A3wBRGZ"
      },
      "source": [
        "pipe1 = Pipeline([(\"cleaner\", predictors()),\n",
        "                 ('vectorizer', bow_vector),\n",
        "                 ('tfidf',TfidfTransformer()),\n",
        "                 ('regressor', regr_multirf)])\n",
        "\n",
        "pipe2 = Pipeline([(\"cleaner\", predictors()),\n",
        "                 ('vectorizer', bow_vector),\n",
        "                 ('tfidf',TfidfTransformer()),\n",
        "                 ('regressor', regr_multirf)])"
      ],
      "execution_count": null,
      "outputs": []
    },
    {
      "cell_type": "markdown",
      "metadata": {
        "id": "LxL_zoDbCZAe"
      },
      "source": [
        "#### Title model generation"
      ]
    },
    {
      "cell_type": "code",
      "metadata": {
        "id": "imoZLVylBRN7",
        "outputId": "d9d894f6-ce3c-466f-fec7-773e36d50cb5",
        "colab": {
          "base_uri": "https://localhost:8080/",
          "height": 538
        }
      },
      "source": [
        "pipe1.fit(x_train_title,Y_train_title)"
      ],
      "execution_count": null,
      "outputs": [
        {
          "output_type": "execute_result",
          "data": {
            "text/plain": [
              "Pipeline(memory=None,\n",
              "         steps=[('cleaner', <__main__.predictors object at 0x7fba32571908>),\n",
              "                ('vectorizer',\n",
              "                 CountVectorizer(analyzer='word', binary=False,\n",
              "                                 decode_error='strict',\n",
              "                                 dtype=<class 'numpy.int64'>, encoding='utf-8',\n",
              "                                 input='content', lowercase=True, max_df=1.0,\n",
              "                                 max_features=100, min_df=1, ngram_range=(1, 2),\n",
              "                                 preprocessor=None, stop_words=None,\n",
              "                                 strip_accents=None,\n",
              "                                 to...\n",
              "                 MultiOutputRegressor(estimator=RandomForestRegressor(bootstrap=True,\n",
              "                                                                      ccp_alpha=0.0,\n",
              "                                                                      criterion='mse',\n",
              "                                                                      max_depth=None,\n",
              "                                                                      max_features='auto',\n",
              "                                                                      max_leaf_nodes=None,\n",
              "                                                                      max_samples=None,\n",
              "                                                                      min_impurity_decrease=0.0,\n",
              "                                                                      min_impurity_split=None,\n",
              "                                                                      min_samples_leaf=1,\n",
              "                                                                      min_samples_split=2,\n",
              "                                                                      min_weight_fraction_leaf=0.0,\n",
              "                                                                      n_estimators=100,\n",
              "                                                                      n_jobs=None,\n",
              "                                                                      oob_score=False,\n",
              "                                                                      random_state=0,\n",
              "                                                                      verbose=0,\n",
              "                                                                      warm_start=False),\n",
              "                                      n_jobs=None))],\n",
              "         verbose=False)"
            ]
          },
          "metadata": {
            "tags": []
          },
          "execution_count": 44
        }
      ]
    },
    {
      "cell_type": "code",
      "metadata": {
        "id": "PJttwiJsBRVy",
        "outputId": "83f8c8f8-a0cb-40ed-d11c-15b5d5d50cc3",
        "colab": {
          "base_uri": "https://localhost:8080/",
          "height": 538
        }
      },
      "source": [
        "pipe2.fit(x_train_headline,Y_train_headline)"
      ],
      "execution_count": null,
      "outputs": [
        {
          "output_type": "execute_result",
          "data": {
            "text/plain": [
              "Pipeline(memory=None,\n",
              "         steps=[('cleaner', <__main__.predictors object at 0x7fba325713c8>),\n",
              "                ('vectorizer',\n",
              "                 CountVectorizer(analyzer='word', binary=False,\n",
              "                                 decode_error='strict',\n",
              "                                 dtype=<class 'numpy.int64'>, encoding='utf-8',\n",
              "                                 input='content', lowercase=True, max_df=1.0,\n",
              "                                 max_features=100, min_df=1, ngram_range=(1, 2),\n",
              "                                 preprocessor=None, stop_words=None,\n",
              "                                 strip_accents=None,\n",
              "                                 to...\n",
              "                 MultiOutputRegressor(estimator=RandomForestRegressor(bootstrap=True,\n",
              "                                                                      ccp_alpha=0.0,\n",
              "                                                                      criterion='mse',\n",
              "                                                                      max_depth=None,\n",
              "                                                                      max_features='auto',\n",
              "                                                                      max_leaf_nodes=None,\n",
              "                                                                      max_samples=None,\n",
              "                                                                      min_impurity_decrease=0.0,\n",
              "                                                                      min_impurity_split=None,\n",
              "                                                                      min_samples_leaf=1,\n",
              "                                                                      min_samples_split=2,\n",
              "                                                                      min_weight_fraction_leaf=0.0,\n",
              "                                                                      n_estimators=100,\n",
              "                                                                      n_jobs=None,\n",
              "                                                                      oob_score=False,\n",
              "                                                                      random_state=0,\n",
              "                                                                      verbose=0,\n",
              "                                                                      warm_start=False),\n",
              "                                      n_jobs=None))],\n",
              "         verbose=False)"
            ]
          },
          "metadata": {
            "tags": []
          },
          "execution_count": 45
        }
      ]
    },
    {
      "cell_type": "code",
      "metadata": {
        "id": "KlCfzk83N-Zk"
      },
      "source": [
        "test_pred_title=pipe1.predict(x_valid_title)"
      ],
      "execution_count": null,
      "outputs": []
    },
    {
      "cell_type": "code",
      "metadata": {
        "id": "1VQPzBfCN-Dw"
      },
      "source": [
        "test_pred_headline=pipe2.predict(x_valid_headline)"
      ],
      "execution_count": null,
      "outputs": []
    },
    {
      "cell_type": "code",
      "metadata": {
        "id": "PhPkpaFIBRdd"
      },
      "source": [
        "from sklearn.metrics import mean_squared_error, mean_absolute_error, r2_score"
      ],
      "execution_count": null,
      "outputs": []
    },
    {
      "cell_type": "code",
      "metadata": {
        "id": "bKEHO_ZbBRkg"
      },
      "source": [
        "mae_title=mean_absolute_error(y_valid_title,test_pred_title)"
      ],
      "execution_count": null,
      "outputs": []
    },
    {
      "cell_type": "code",
      "metadata": {
        "id": "Vyd-11iFBRsl"
      },
      "source": [
        "mae_headline=mean_absolute_error(y_valid_headline,test_pred_headline)"
      ],
      "execution_count": null,
      "outputs": []
    },
    {
      "cell_type": "code",
      "metadata": {
        "id": "eqbZofQMNZ5-"
      },
      "source": [
        "score=1-((0.4*mae_title)+(0.6*mae_headline))"
      ],
      "execution_count": null,
      "outputs": []
    },
    {
      "cell_type": "code",
      "metadata": {
        "id": "hLwFkJOmNaZM",
        "outputId": "6031ea38-68c7-4412-a608-86376fa3a8ae",
        "colab": {
          "base_uri": "https://localhost:8080/",
          "height": 34
        }
      },
      "source": [
        "score"
      ],
      "execution_count": null,
      "outputs": [
        {
          "output_type": "execute_result",
          "data": {
            "text/plain": [
              "0.9000100102350481"
            ]
          },
          "metadata": {
            "tags": []
          },
          "execution_count": 52
        }
      ]
    },
    {
      "cell_type": "code",
      "metadata": {
        "id": "b-7XwOfRYF0_"
      },
      "source": [
        "pred_title=pipe1.predict(X_test_title)"
      ],
      "execution_count": null,
      "outputs": []
    },
    {
      "cell_type": "code",
      "metadata": {
        "id": "ZedfKjY1YGFL"
      },
      "source": [
        "pred_headline=pipe2.predict(X_test_headline)"
      ],
      "execution_count": null,
      "outputs": []
    },
    {
      "cell_type": "code",
      "metadata": {
        "id": "aUdcFbpFNawJ"
      },
      "source": [
        "submission=pd.DataFrame()"
      ],
      "execution_count": null,
      "outputs": []
    },
    {
      "cell_type": "code",
      "metadata": {
        "id": "uP0eIlbyNa_t"
      },
      "source": [
        "submission['IDLink']=test['IDLink'].to_list()\n",
        "submission['SentimentTitle']=pred_title\n",
        "submission['SentimentHeadline']=pred_headline"
      ],
      "execution_count": null,
      "outputs": []
    },
    {
      "cell_type": "code",
      "metadata": {
        "id": "ZQh7VU9UNarD",
        "outputId": "1c20398c-9674-497b-d5b3-6faaa015752d",
        "colab": {
          "base_uri": "https://localhost:8080/",
          "height": 195
        }
      },
      "source": [
        "submission.head()"
      ],
      "execution_count": null,
      "outputs": [
        {
          "output_type": "execute_result",
          "data": {
            "text/html": [
              "<div>\n",
              "<style scoped>\n",
              "    .dataframe tbody tr th:only-of-type {\n",
              "        vertical-align: middle;\n",
              "    }\n",
              "\n",
              "    .dataframe tbody tr th {\n",
              "        vertical-align: top;\n",
              "    }\n",
              "\n",
              "    .dataframe thead th {\n",
              "        text-align: right;\n",
              "    }\n",
              "</style>\n",
              "<table border=\"1\" class=\"dataframe\">\n",
              "  <thead>\n",
              "    <tr style=\"text-align: right;\">\n",
              "      <th></th>\n",
              "      <th>IDLink</th>\n",
              "      <th>SentimentTitle</th>\n",
              "      <th>SentimentHeadline</th>\n",
              "    </tr>\n",
              "  </thead>\n",
              "  <tbody>\n",
              "    <tr>\n",
              "      <th>0</th>\n",
              "      <td>tFrqIR6Chj</td>\n",
              "      <td>-0.030225</td>\n",
              "      <td>-0.009514</td>\n",
              "    </tr>\n",
              "    <tr>\n",
              "      <th>1</th>\n",
              "      <td>DVAaGErjlF</td>\n",
              "      <td>-0.018410</td>\n",
              "      <td>-0.035337</td>\n",
              "    </tr>\n",
              "    <tr>\n",
              "      <th>2</th>\n",
              "      <td>OT9UIZm5M2</td>\n",
              "      <td>-0.018410</td>\n",
              "      <td>-0.053826</td>\n",
              "    </tr>\n",
              "    <tr>\n",
              "      <th>3</th>\n",
              "      <td>lflGp3q2Fj</td>\n",
              "      <td>0.052213</td>\n",
              "      <td>-0.033969</td>\n",
              "    </tr>\n",
              "    <tr>\n",
              "      <th>4</th>\n",
              "      <td>zDYG0SoovZ</td>\n",
              "      <td>-0.124802</td>\n",
              "      <td>-0.005911</td>\n",
              "    </tr>\n",
              "  </tbody>\n",
              "</table>\n",
              "</div>"
            ],
            "text/plain": [
              "       IDLink  SentimentTitle  SentimentHeadline\n",
              "0  tFrqIR6Chj       -0.030225          -0.009514\n",
              "1  DVAaGErjlF       -0.018410          -0.035337\n",
              "2  OT9UIZm5M2       -0.018410          -0.053826\n",
              "3  lflGp3q2Fj        0.052213          -0.033969\n",
              "4  zDYG0SoovZ       -0.124802          -0.005911"
            ]
          },
          "metadata": {
            "tags": []
          },
          "execution_count": 57
        }
      ]
    },
    {
      "cell_type": "code",
      "metadata": {
        "id": "79WUSHtDNaSj"
      },
      "source": [
        "submission.to_csv('./data/submission3.csv')"
      ],
      "execution_count": null,
      "outputs": []
    },
    {
      "cell_type": "code",
      "metadata": {
        "id": "daemC4qsNZxD"
      },
      "source": [
        ""
      ],
      "execution_count": null,
      "outputs": []
    }
  ]
}